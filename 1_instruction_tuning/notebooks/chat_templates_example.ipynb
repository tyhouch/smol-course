{
  "cells": [
    {
      "cell_type": "markdown",
      "metadata": {
        "id": "F3nzKE2UiC5Y"
      },
      "source": [
        "# Exploring Chat Templates with SmolLM2 and Llama 3.2\n",
        "\n",
        "This notebook demonstrates how to use chat templates with the `SmolLM2` and `Llama 3.2` models. Chat templates help structure interactions between users and AI models, ensuring consistent and contextually appropriate responses."
      ]
    },
    {
      "cell_type": "code",
      "execution_count": 1,
      "metadata": {
        "id": "RQyZSF2fiC5Z",
        "outputId": "2f4825e1-d177-4117-feca-2f714491cdeb"
      },
      "outputs": [
        {
          "name": "stderr",
          "output_type": "stream",
          "text": [
            "/Users/tylerhouchin/Desktop/code/smol-course/venv/lib/python3.10/site-packages/tqdm/auto.py:21: TqdmWarning: IProgress not found. Please update jupyter and ipywidgets. See https://ipywidgets.readthedocs.io/en/stable/user_install.html\n",
            "  from .autonotebook import tqdm as notebook_tqdm\n"
          ]
        }
      ],
      "source": [
        "# Import necessary libraries\n",
        "from transformers import AutoModelForCausalLM, AutoTokenizer\n",
        "from trl import setup_chat_format\n",
        "import torch"
      ]
    },
    {
      "cell_type": "markdown",
      "metadata": {
        "id": "cl3KwX0JiC5a"
      },
      "source": [
        "## SmolLM2 Chat Template\n",
        "\n",
        "Let's explore how to use a chat template with the `SmolLM2` model. We'll define a simple conversation and apply the chat template."
      ]
    },
    {
      "cell_type": "code",
      "execution_count": 2,
      "metadata": {
        "id": "A0-6k26niC5a"
      },
      "outputs": [],
      "source": [
        "# Dynamically set the device\n",
        "device = \"cuda\" if torch.cuda.is_available() else \"mps\" if torch.backends.mps.is_available() else \"cpu\"\n",
        "\n",
        "model_name = \"HuggingFaceTB/SmolLM2-135M\"\n",
        "model = AutoModelForCausalLM.from_pretrained(pretrained_model_name_or_path=model_name).to(device)\n",
        "tokenizer = AutoTokenizer.from_pretrained(pretrained_model_name_or_path=model_name)\n",
        "model, tokenizer = setup_chat_format(model=model, tokenizer=tokenizer)"
      ]
    },
    {
      "cell_type": "code",
      "execution_count": 4,
      "metadata": {
        "id": "z8ur2jxKiC5a"
      },
      "outputs": [],
      "source": [
        "# Define messages for SmolLM2\n",
        "messages = [\n",
        "    {\"role\": \"user\", \"content\": \"Hello, how are you?\"},\n",
        "    {\n",
        "        \"role\": \"assistant\",\n",
        "        \"content\": \"I'm doing well, thank you! How can I assist you today?\",\n",
        "    },\n",
        "]"
      ]
    },
    {
      "cell_type": "markdown",
      "metadata": {
        "id": "HZHBCpqDiC5a"
      },
      "source": [
        "# Apply chat template without tokenization\n",
        "\n",
        "The tokenizer represents the conversation as a string with special tokens to describe the role of the user and the assistant.\n"
      ]
    },
    {
      "cell_type": "code",
      "execution_count": 5,
      "metadata": {
        "id": "Bc38j3kriC5b",
        "outputId": "f826dc68-3052-421e-b45d-4e40515a3068"
      },
      "outputs": [
        {
          "name": "stdout",
          "output_type": "stream",
          "text": [
            "Conversation with template: <|im_start|>user\n",
            "Hello, how are you?<|im_end|>\n",
            "<|im_start|>assistant\n",
            "I'm doing well, thank you! How can I assist you today?<|im_end|>\n",
            "\n"
          ]
        }
      ],
      "source": [
        "input_text = tokenizer.apply_chat_template(messages, tokenize=False)\n",
        "\n",
        "print(\"Conversation with template:\", input_text)"
      ]
    },
    {
      "cell_type": "markdown",
      "metadata": {
        "id": "o2sOIqSEiC5b"
      },
      "source": [
        "# Decode the conversation\n",
        "\n",
        "Note that the conversation is represented as above but with a further assistant message.\n"
      ]
    },
    {
      "cell_type": "code",
      "execution_count": 6,
      "metadata": {
        "id": "5cSaq3_XiC5b",
        "outputId": "fa92bd64-820b-4941-b71f-730d9f20b09e"
      },
      "outputs": [
        {
          "name": "stdout",
          "output_type": "stream",
          "text": [
            "Conversation decoded: <|im_start|>user\n",
            "Hello, how are you?<|im_end|>\n",
            "<|im_start|>assistant\n",
            "I'm doing well, thank you! How can I assist you today?<|im_end|>\n",
            "<|im_start|>assistant\n",
            "\n"
          ]
        }
      ],
      "source": [
        "input_text = tokenizer.apply_chat_template(messages, tokenize=True, add_generation_prompt=True)\n",
        "\n",
        "print(\"Conversation decoded:\", tokenizer.decode(token_ids=input_text))"
      ]
    },
    {
      "cell_type": "markdown",
      "metadata": {
        "id": "Y-0OaQZ9iC5b"
      },
      "source": [
        "# Tokenize the conversation\n",
        "\n",
        "Of course, the tokenizer also tokenizes the conversation and special token as ids that relate to the model's vocabulary.\n",
        "\n"
      ]
    },
    {
      "cell_type": "code",
      "execution_count": 7,
      "metadata": {
        "id": "cnNislvxiC5b",
        "outputId": "1d51e564-036e-44ea-e2b3-a1c136a383ef"
      },
      "outputs": [
        {
          "name": "stdout",
          "output_type": "stream",
          "text": [
            "Conversation tokenized: [1, 4093, 198, 19556, 28, 638, 359, 346, 47, 2, 198, 1, 520, 9531, 198, 57, 5248, 2567, 876, 28, 9984, 346, 17, 1073, 416, 339, 4237, 346, 1834, 47, 2, 198, 1, 520, 9531, 198]\n"
          ]
        }
      ],
      "source": [
        "input_text = tokenizer.apply_chat_template(messages, add_generation_prompt=True)\n",
        "\n",
        "print(\"Conversation tokenized:\", input_text)"
      ]
    },
    {
      "cell_type": "markdown",
      "metadata": {
        "id": "AgMBIAZliC5b"
      },
      "source": [
        "<div style= padding: 10px; border-radius: 5px; margin-bottom: 20px'>\n",
        "    <h2>Exercise: Process a dataset for SFT</h2>\n",
        "    <p>Take a dataset from the Hugging Face hub and process it for SFT. </p>\n",
        "    <p><b>Difficulty Levels</b></p>\n",
        "    <p>🐢 Convert the `HuggingFaceTB/smoltalk` dataset into chatml format.</p>\n",
        "    <p>🐕 Convert the `openai/gsm8k` dataset into chatml format.</p>\n",
        "</div>"
      ]
    },
    {
      "cell_type": "code",
      "execution_count": 8,
      "metadata": {
        "id": "3eAAyOtdiC5b",
        "outputId": "797bebd3-d1fe-492a-87e1-f3670d7bb64d"
      },
      "outputs": [
        {
          "name": "stderr",
          "output_type": "stream",
          "text": [
            "/var/folders/yj/9j0gvmw94m78t21q_rkctb340000gn/T/ipykernel_77584/1790625692.py:1: DeprecationWarning: Importing display from IPython.core.display is deprecated since IPython 7.14, please import from IPython.display\n",
            "  from IPython.core.display import display, HTML\n"
          ]
        },
        {
          "data": {
            "text/html": [
              "<iframe\n",
              "  src=\"https://huggingface.co/datasets/HuggingFaceTB/smoltalk/embed/viewer/all/train?row=0\"\n",
              "  frameborder=\"0\"\n",
              "  width=\"100%\"\n",
              "  height=\"360px\"\n",
              "></iframe>\n"
            ],
            "text/plain": [
              "<IPython.core.display.HTML object>"
            ]
          },
          "metadata": {},
          "output_type": "display_data"
        }
      ],
      "source": [
        "from IPython.core.display import display, HTML\n",
        "\n",
        "display(\n",
        "    HTML(\"\"\"<iframe\n",
        "  src=\"https://huggingface.co/datasets/HuggingFaceTB/smoltalk/embed/viewer/all/train?row=0\"\n",
        "  frameborder=\"0\"\n",
        "  width=\"100%\"\n",
        "  height=\"360px\"\n",
        "></iframe>\n",
        "\"\"\")\n",
        ")"
      ]
    },
    {
      "cell_type": "code",
      "execution_count": 26,
      "metadata": {},
      "outputs": [
        {
          "name": "stdout",
          "output_type": "stream",
          "text": [
            "{'full_topic': 'Travel/Vacation destinations/Beach resorts', 'messages': [{'content': 'Hi there', 'role': 'user'}, {'content': 'Hello! How can I help you today?', 'role': 'assistant'}, {'content': \"I'm looking for a beach resort for my next vacation. Can you recommend some popular ones?\", 'role': 'user'}, {'content': \"Some popular beach resorts include Maui in Hawaii, the Maldives, and the Bahamas. They're known for their beautiful beaches and crystal-clear waters.\", 'role': 'assistant'}, {'content': 'That sounds great. Are there any resorts in the Caribbean that are good for families?', 'role': 'user'}, {'content': 'Yes, the Turks and Caicos Islands and Barbados are excellent choices for family-friendly resorts in the Caribbean. They offer a range of activities and amenities suitable for all ages.', 'role': 'assistant'}, {'content': \"Okay, I'll look into those. Thanks for the recommendations!\", 'role': 'user'}, {'content': \"You're welcome. I hope you find the perfect resort for your vacation.\", 'role': 'assistant'}]}\n"
          ]
        }
      ],
      "source": [
        "from datasets import load_dataset\n",
        "\n",
        "ds = load_dataset(\"HuggingFaceTB/smoltalk\", \"everyday-conversations\", split=\"train\")\n",
        "print(ds[0])"
      ]
    },
    {
      "cell_type": "code",
      "execution_count": 33,
      "metadata": {},
      "outputs": [],
      "source": [
        "def process_dataset_entry(sample, drop_full_topic=False):\n",
        "    # we will use the 'full_topic' to create a system msg to prime the model\n",
        "    system_message = {\n",
        "        \"content\": f\"You are a helpful assistant having a conversation about {sample['full_topic']}.\",\n",
        "        \"role\": \"system\",\n",
        "    }\n",
        "    # prepend the system message to the messages\n",
        "    messages = [system_message] + sample[\"messages\"]\n",
        "    # convert the messages into chatml format\n",
        "    messages = tokenizer.apply_chat_template(messages, tokenize=True, add_generation_prompt=True)\n",
        "    sample[\"messages\"] = messages\n",
        "    if drop_full_topic:\n",
        "        sample.pop(\"full_topic\")\n",
        "    return sample"
      ]
    },
    {
      "cell_type": "code",
      "execution_count": 34,
      "metadata": {},
      "outputs": [
        {
          "name": "stdout",
          "output_type": "stream",
          "text": [
            "original sample: {'full_topic': 'Travel/Vacation destinations/Beach resorts', 'messages': [{'content': 'Hi there', 'role': 'user'}, {'content': 'Hello! How can I help you today?', 'role': 'assistant'}, {'content': \"I'm looking for a beach resort for my next vacation. Can you recommend some popular ones?\", 'role': 'user'}, {'content': \"Some popular beach resorts include Maui in Hawaii, the Maldives, and the Bahamas. They're known for their beautiful beaches and crystal-clear waters.\", 'role': 'assistant'}, {'content': 'That sounds great. Are there any resorts in the Caribbean that are good for families?', 'role': 'user'}, {'content': 'Yes, the Turks and Caicos Islands and Barbados are excellent choices for family-friendly resorts in the Caribbean. They offer a range of activities and amenities suitable for all ages.', 'role': 'assistant'}, {'content': \"Okay, I'll look into those. Thanks for the recommendations!\", 'role': 'user'}, {'content': \"You're welcome. I hope you find the perfect resort for your vacation.\", 'role': 'assistant'}]}\n",
            "processed sample: {'full_topic': 'Travel/Vacation destinations/Beach resorts', 'messages': [1, 9690, 198, 2683, 359, 253, 5356, 11173, 1953, 253, 6634, 563, 15179, 31, 70, 387, 309, 20274, 31, 6077, 554, 36088, 30, 2, 198, 1, 4093, 198, 26843, 665, 2, 198, 1, 520, 9531, 198, 19556, 17, 1073, 416, 339, 724, 346, 1834, 47, 2, 198, 1, 4093, 198, 57, 5248, 3012, 327, 253, 10724, 14500, 327, 957, 1867, 17584, 30, 1978, 346, 3730, 634, 2378, 2911, 47, 2, 198, 1, 520, 9531, 198, 4449, 2378, 10724, 36088, 1453, 48326, 281, 14126, 28, 260, 48148, 898, 28, 284, 260, 44057, 30, 1069, 2316, 1343, 327, 480, 3953, 16351, 284, 13253, 29, 10086, 5656, 30, 2, 198, 1, 4093, 198, 5195, 4598, 1109, 30, 4184, 665, 750, 36088, 281, 260, 11981, 338, 359, 1123, 327, 3168, 47, 2, 198, 1, 520, 9531, 198, 10539, 28, 260, 25518, 284, 7784, 48096, 10015, 284, 47557, 395, 359, 5412, 4975, 327, 1564, 29, 9263, 36088, 281, 260, 11981, 30, 1069, 2626, 253, 1845, 282, 2123, 284, 32255, 5712, 327, 511, 6399, 30, 2, 198, 1, 4093, 198, 39122, 28, 339, 3060, 1492, 618, 967, 30, 10090, 327, 260, 7400, 17, 2, 198, 1, 520, 9531, 198, 2683, 2316, 10668, 30, 339, 3826, 346, 1042, 260, 3468, 14500, 327, 469, 17584, 30, 2, 198, 1, 520, 9531, 198]}\n"
          ]
        }
      ],
      "source": [
        "print(f\"original sample: {ds[0]}\")\n",
        "print(f\"processed sample: {process_dataset_entry(ds[0])}\")"
      ]
    },
    {
      "cell_type": "code",
      "execution_count": 35,
      "metadata": {
        "id": "PK5VV_4yiC5c",
        "outputId": "2916e3a4-d6f6-475b-bb37-95980d13a11a"
      },
      "outputs": [
        {
          "name": "stderr",
          "output_type": "stream",
          "text": [
            "Map: 100%|██████████| 2260/2260 [00:01<00:00, 1961.01 examples/s]\n"
          ]
        },
        {
          "data": {
            "text/plain": [
              "{'messages': [1,\n",
              "  9690,\n",
              "  198,\n",
              "  2683,\n",
              "  359,\n",
              "  253,\n",
              "  5356,\n",
              "  11173,\n",
              "  1953,\n",
              "  253,\n",
              "  6634,\n",
              "  563,\n",
              "  5917,\n",
              "  31,\n",
              "  20158,\n",
              "  259,\n",
              "  1421,\n",
              "  31,\n",
              "  61,\n",
              "  293,\n",
              "  11054,\n",
              "  30,\n",
              "  2,\n",
              "  198,\n",
              "  1,\n",
              "  4093,\n",
              "  198,\n",
              "  26843,\n",
              "  2,\n",
              "  198,\n",
              "  1,\n",
              "  520,\n",
              "  9531,\n",
              "  198,\n",
              "  19556,\n",
              "  17,\n",
              "  1073,\n",
              "  416,\n",
              "  339,\n",
              "  724,\n",
              "  346,\n",
              "  1834,\n",
              "  47,\n",
              "  2,\n",
              "  198,\n",
              "  1,\n",
              "  4093,\n",
              "  198,\n",
              "  57,\n",
              "  5248,\n",
              "  3012,\n",
              "  327,\n",
              "  4795,\n",
              "  5042,\n",
              "  30,\n",
              "  339,\n",
              "  1277,\n",
              "  288,\n",
              "  1042,\n",
              "  253,\n",
              "  725,\n",
              "  2288,\n",
              "  28,\n",
              "  564,\n",
              "  339,\n",
              "  5248,\n",
              "  441,\n",
              "  2090,\n",
              "  732,\n",
              "  339,\n",
              "  1277,\n",
              "  288,\n",
              "  536,\n",
              "  30,\n",
              "  2,\n",
              "  198,\n",
              "  1,\n",
              "  520,\n",
              "  9531,\n",
              "  198,\n",
              "  20158,\n",
              "  259,\n",
              "  1421,\n",
              "  416,\n",
              "  325,\n",
              "  4739,\n",
              "  30,\n",
              "  1812,\n",
              "  359,\n",
              "  469,\n",
              "  1574,\n",
              "  1954,\n",
              "  284,\n",
              "  4694,\n",
              "  338,\n",
              "  1124,\n",
              "  724,\n",
              "  6260,\n",
              "  1187,\n",
              "  634,\n",
              "  3416,\n",
              "  47,\n",
              "  2,\n",
              "  198,\n",
              "  1,\n",
              "  4093,\n",
              "  198,\n",
              "  57,\n",
              "  457,\n",
              "  1786,\n",
              "  281,\n",
              "  8162,\n",
              "  284,\n",
              "  2815,\n",
              "  1891,\n",
              "  351,\n",
              "  701,\n",
              "  30,\n",
              "  339,\n",
              "  5248,\n",
              "  597,\n",
              "  4854,\n",
              "  281,\n",
              "  1380,\n",
              "  540,\n",
              "  563,\n",
              "  940,\n",
              "  2318,\n",
              "  30,\n",
              "  2,\n",
              "  198,\n",
              "  1,\n",
              "  520,\n",
              "  9531,\n",
              "  198,\n",
              "  5195,\n",
              "  506,\n",
              "  253,\n",
              "  1109,\n",
              "  4925,\n",
              "  30,\n",
              "  1206,\n",
              "  1124,\n",
              "  1771,\n",
              "  5191,\n",
              "  702,\n",
              "  8162,\n",
              "  27311,\n",
              "  355,\n",
              "  1861,\n",
              "  1421,\n",
              "  28,\n",
              "  527,\n",
              "  8993,\n",
              "  701,\n",
              "  1954,\n",
              "  351,\n",
              "  940,\n",
              "  2318,\n",
              "  30,\n",
              "  339,\n",
              "  416,\n",
              "  1538,\n",
              "  540,\n",
              "  1096,\n",
              "  335,\n",
              "  967,\n",
              "  11326,\n",
              "  585,\n",
              "  346,\n",
              "  6737,\n",
              "  702,\n",
              "  30,\n",
              "  2,\n",
              "  198,\n",
              "  1,\n",
              "  4093,\n",
              "  198,\n",
              "  5195,\n",
              "  4598,\n",
              "  5356,\n",
              "  30,\n",
              "  1978,\n",
              "  346,\n",
              "  597,\n",
              "  1820,\n",
              "  634,\n",
              "  1952,\n",
              "  327,\n",
              "  1380,\n",
              "  940,\n",
              "  2318,\n",
              "  47,\n",
              "  2,\n",
              "  198,\n",
              "  1,\n",
              "  520,\n",
              "  9531,\n",
              "  198,\n",
              "  42686,\n",
              "  8234,\n",
              "  30,\n",
              "  8646,\n",
              "  5836,\n",
              "  702,\n",
              "  340,\n",
              "  1970,\n",
              "  4101,\n",
              "  28,\n",
              "  953,\n",
              "  72,\n",
              "  28,\n",
              "  284,\n",
              "  39424,\n",
              "  5663,\n",
              "  2626,\n",
              "  253,\n",
              "  3599,\n",
              "  1845,\n",
              "  282,\n",
              "  940,\n",
              "  2318,\n",
              "  5836,\n",
              "  30,\n",
              "  4454,\n",
              "  28,\n",
              "  346,\n",
              "  416,\n",
              "  2217,\n",
              "  3544,\n",
              "  5115,\n",
              "  702,\n",
              "  39424,\n",
              "  2119,\n",
              "  355,\n",
              "  6143,\n",
              "  2729,\n",
              "  2466,\n",
              "  288,\n",
              "  835,\n",
              "  429,\n",
              "  1449,\n",
              "  281,\n",
              "  260,\n",
              "  1955,\n",
              "  30,\n",
              "  2,\n",
              "  198,\n",
              "  1,\n",
              "  520,\n",
              "  9531,\n",
              "  198]}"
            ]
          },
          "execution_count": 35,
          "metadata": {},
          "output_type": "execute_result"
        }
      ],
      "source": [
        "processed_ds = ds.map(process_dataset_entry, fn_kwargs={\"drop_full_topic\": True})\n",
        "processed_ds[1]\n",
        "\n"
      ]
    },
    {
      "cell_type": "code",
      "execution_count": null,
      "metadata": {
        "id": "30VHtxjaiC5c",
        "outputId": "52af2644-eaeb-4915-ddfa-7e1ee717ac98"
      },
      "outputs": [
        {
          "data": {
            "text/html": [
              "<iframe\n",
              "  src=\"https://huggingface.co/datasets/openai/gsm8k/embed/viewer/main/train\"\n",
              "  frameborder=\"0\"\n",
              "  width=\"100%\"\n",
              "  height=\"360px\"\n",
              "></iframe>\n"
            ],
            "text/plain": [
              "<IPython.core.display.HTML object>"
            ]
          },
          "metadata": {},
          "output_type": "display_data"
        }
      ],
      "source": [
        "display(\n",
        "    HTML(\"\"\"<iframe\n",
        "  src=\"https://huggingface.co/datasets/openai/gsm8k/embed/viewer/main/train\"\n",
        "  frameborder=\"0\"\n",
        "  width=\"100%\"\n",
        "  height=\"360px\"\n",
        "></iframe>\n",
        "\"\"\")\n",
        ")"
      ]
    },
    {
      "cell_type": "code",
      "execution_count": 42,
      "metadata": {
        "id": "OEivfg05iC5c"
      },
      "outputs": [
        {
          "name": "stdout",
          "output_type": "stream",
          "text": [
            "{'question': 'Natalia sold clips to 48 of her friends in April, and then she sold half as many clips in May. How many clips did Natalia sell altogether in April and May?', 'answer': 'Natalia sold 48/2 = <<48/2=24>>24 clips in May.\\nNatalia sold 48+24 = <<48+24=72>>72 clips altogether in April and May.\\n#### 72'}\n"
          ]
        }
      ],
      "source": [
        "ds = load_dataset(\"openai/gsm8k\", \"main\", split=\"train\")\n",
        "print(ds[0])"
      ]
    },
    {
      "cell_type": "code",
      "execution_count": 43,
      "metadata": {},
      "outputs": [
        {
          "name": "stderr",
          "output_type": "stream",
          "text": [
            "Map: 100%|██████████| 7473/7473 [00:03<00:00, 2178.19 examples/s]\n"
          ]
        },
        {
          "data": {
            "text/plain": [
              "{'messages': [1,\n",
              "  9690,\n",
              "  198,\n",
              "  2683,\n",
              "  359,\n",
              "  253,\n",
              "  5356,\n",
              "  11173,\n",
              "  338,\n",
              "  416,\n",
              "  2988,\n",
              "  2029,\n",
              "  563,\n",
              "  4119,\n",
              "  1828,\n",
              "  30,\n",
              "  2,\n",
              "  198,\n",
              "  1,\n",
              "  4093,\n",
              "  198,\n",
              "  71,\n",
              "  1059,\n",
              "  38668,\n",
              "  1885,\n",
              "  33,\n",
              "  34,\n",
              "  354,\n",
              "  5353,\n",
              "  327,\n",
              "  3383,\n",
              "  672,\n",
              "  9584,\n",
              "  30,\n",
              "  718,\n",
              "  15955,\n",
              "  28,\n",
              "  1041,\n",
              "  915,\n",
              "  1250,\n",
              "  216,\n",
              "  37,\n",
              "  32,\n",
              "  3487,\n",
              "  282,\n",
              "  3383,\n",
              "  672,\n",
              "  9584,\n",
              "  30,\n",
              "  1073,\n",
              "  1083,\n",
              "  1250,\n",
              "  1041,\n",
              "  5301,\n",
              "  47,\n",
              "  2,\n",
              "  198,\n",
              "  1,\n",
              "  520,\n",
              "  9531,\n",
              "  198,\n",
              "  71,\n",
              "  1059,\n",
              "  38668,\n",
              "  216,\n",
              "  33,\n",
              "  34,\n",
              "  31,\n",
              "  38,\n",
              "  32,\n",
              "  446,\n",
              "  1885,\n",
              "  33691,\n",
              "  33,\n",
              "  34,\n",
              "  31,\n",
              "  38,\n",
              "  32,\n",
              "  45,\n",
              "  32,\n",
              "  30,\n",
              "  34,\n",
              "  7791,\n",
              "  32,\n",
              "  30,\n",
              "  34,\n",
              "  567,\n",
              "  8427,\n",
              "  30,\n",
              "  198,\n",
              "  23830,\n",
              "  216,\n",
              "  37,\n",
              "  32,\n",
              "  3487,\n",
              "  28,\n",
              "  1041,\n",
              "  11420,\n",
              "  216,\n",
              "  32,\n",
              "  30,\n",
              "  34,\n",
              "  1792,\n",
              "  216,\n",
              "  37,\n",
              "  32,\n",
              "  446,\n",
              "  1885,\n",
              "  33691,\n",
              "  32,\n",
              "  30,\n",
              "  34,\n",
              "  26,\n",
              "  37,\n",
              "  32,\n",
              "  45,\n",
              "  33,\n",
              "  32,\n",
              "  7791,\n",
              "  33,\n",
              "  32,\n",
              "  30,\n",
              "  198,\n",
              "  1229,\n",
              "  216,\n",
              "  33,\n",
              "  32,\n",
              "  2,\n",
              "  198,\n",
              "  1,\n",
              "  520,\n",
              "  9531,\n",
              "  198]}"
            ]
          },
          "execution_count": 43,
          "metadata": {},
          "output_type": "execute_result"
        }
      ],
      "source": [
        "def process_dataset_entry(sample):\n",
        "    # we will primet the model with a system message about the dataset. it is answers to math problems.\n",
        "    system_message = {\n",
        "        \"role\": \"system\",\n",
        "        \"content\": \"You are a helpful assistant that can answer questions about math problems.\",\n",
        "    }\n",
        "    # the 'question' key will be the user's question and the 'answer' will be the assistant's response.\n",
        "    messages = [system_message] + [{\"role\": \"user\", \"content\": sample[\"question\"]}] + [{\"role\": \"assistant\", \"content\": sample[\"answer\"]}]\n",
        "    # convert the messages into chatml format\n",
        "    messages = tokenizer.apply_chat_template(messages, tokenize=True, add_generation_prompt=True)\n",
        "    sample[\"messages\"] = messages\n",
        "    # drop the question and answer keys\n",
        "    sample.pop(\"question\")\n",
        "    sample.pop(\"answer\")\n",
        "    return sample\n",
        "\n",
        "processed_ds = ds.map(process_dataset_entry)\n",
        "processed_ds[1]"
      ]
    },
    {
      "cell_type": "markdown",
      "metadata": {
        "id": "dNRKj14YiC5c"
      },
      "source": [
        "## Conclusion\n",
        "\n",
        "This notebook demonstrated how to apply chat templates to different models, `SmolLM2`. By structuring interactions with chat templates, we can ensure that AI models provide consistent and contextually relevant responses.\n",
        "\n",
        "In the exercise you tried out converting a dataset into chatml format. Luckily, TRL will do this for you, but it's useful to understand what's going on under the hood."
      ]
    }
  ],
  "metadata": {
    "colab": {
      "provenance": []
    },
    "kernelspec": {
      "display_name": ".venv",
      "language": "python",
      "name": "python3"
    },
    "language_info": {
      "codemirror_mode": {
        "name": "ipython",
        "version": 3
      },
      "file_extension": ".py",
      "mimetype": "text/x-python",
      "name": "python",
      "nbconvert_exporter": "python",
      "pygments_lexer": "ipython3",
      "version": "3.10.12"
    }
  },
  "nbformat": 4,
  "nbformat_minor": 0
}
